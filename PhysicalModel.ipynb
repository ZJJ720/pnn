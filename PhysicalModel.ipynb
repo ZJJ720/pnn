{
 "cells": [
  {
   "cell_type": "code",
   "execution_count": 12,
   "metadata": {},
   "outputs": [],
   "source": [
    "import math\n",
    "import torch\n",
    "import numpy as np\n",
    "import pandas as pd\n",
    "import matplotlib.pyplot as plt"
   ]
  },
  {
   "cell_type": "markdown",
   "metadata": {},
   "source": [
    "电化学模型参数"
   ]
  },
  {
   "cell_type": "code",
   "execution_count": 13,
   "metadata": {},
   "outputs": [],
   "source": [
    "# 定义常量\n",
    "R = 8.314\n",
    "F = 96485\n",
    "L = 22  # 隔膜电导率参数，需要根据实际情况进行调整\n",
    "A_e = 0.0025\n",
    "w_e = 0.003  # 电极厚度，需要根据实际情况进行调整\n",
    "V_e = A_e * w_e\n",
    "w_c = 0.015  # 集流体厚度，需要根据实际情况进行调整\n",
    "theta_c = 91000  # 集流体电导率，需要根据实际情况进行调整\n",
    "w_m = 0.000127  # 离子交换膜厚度，需要根据实际情况进行调整\n",
    "E_p0 = 1.002\n",
    "E_n0 = -0.255\n",
    "n_d = 2.5\n",
    "C_Hp0 = 3850\n",
    "C_Hn0 = 3030\n",
    "C_H2Op0 = 44600\n",
    "\n",
    "# 电池参数 S, k_p, k_n, theta_e\n",
    "S = 420\n",
    "k_p = 0.0001114\n",
    "k_n = 0.00001798\n",
    "theta_e = 1000"
   ]
  },
  {
   "cell_type": "markdown",
   "metadata": {},
   "source": [
    "函数"
   ]
  },
  {
   "cell_type": "code",
   "execution_count": 14,
   "metadata": {},
   "outputs": [],
   "source": [
    "def get_con(SoC, C_V0, C_Hp0, C_Hn0, C_H2Op0):\n",
    "    C_2 = C_V0*SoC\n",
    "    C_3 = C_V0*(1 - SoC)\n",
    "    C_4 = C_V0*(1 - SoC)\n",
    "    C_5 = C_V0*SoC\n",
    "    C_Hn = C_Hn0 + C_V0*SoC\n",
    "    C_Hp = C_Hp0 + C_V0*SoC\n",
    "    C_H2Op = C_H2Op0 - (1 + n_d)*C_V0*SoC\n",
    "    return C_2, C_3, C_4, C_5, C_Hn, C_Hp, C_H2Op\n",
    "\n",
    "\n",
    "def E_con(T, I, Q, C_2, C_3, C_4, C_5):\n",
    "    E_con_p = torch.empty(len(I))\n",
    "    E_con_n = torch.empty(len(I))\n",
    "\n",
    "    for i in range(len(I)):\n",
    "        if I[i] > 0:\n",
    "            E_con_p[i] = -R*T[i]/F*(-I[i]/(1.43*math.pow(10, -4)*F*math.pow(Q[i]/A_e, 0.4)*C_4[i]))\n",
    "            E_con_n[i] = -R*T[i]/F*(-I[i]/(1.43*math.pow(10, -4)*F*math.pow(Q[i]/A_e, 0.4)*C_3[i]))\n",
    "        \n",
    "\n",
    "        if I[i] < 0:\n",
    "            E_con_p[i] = -R*T[i]/F*(-I[i]/(1.43*math.pow(10, -4)*F*math.pow(Q[i]/A_e, 0.4)*C_5[i]))\n",
    "            E_con_n[i] = -R*T[i]/F*(-I[i]/(1.43*math.pow(10, -4)*F*math.pow(Q[i]/A_e, 0.4)*C_2[i]))\n",
    "\n",
    "    \n",
    "    E_con = E_con_p + E_con_n\n",
    "    \n",
    "    return E_con\n",
    "\n",
    "\n",
    "def E_act(T, I, S, k_p, k_n, C_2, C_3, C_4, C_5):\n",
    "\n",
    "    E_act = R*T*2/F*(torch.asinh(I/S/V_e/2/F/k_p/torch.sqrt(C_4*C_5)) + torch.asinh(I/S/V_e/2/F/k_n/torch.sqrt(C_2*C_3)))\n",
    "\n",
    "    return E_act\n",
    "\n",
    "\n",
    "def E_ohm(theta_e, T, I):\n",
    "    \n",
    "    theta_m = (0.5139*L - 0.326)*torch.exp(1268*(1/303 - 1/T))\n",
    "\n",
    "    E_ohm = (2*w_c/theta_c + 2*w_e/theta_e + w_m/theta_m)*I/A_e\n",
    "\n",
    "    return E_ohm\n",
    "\n",
    "\n",
    "def E_ocv(T, C_2, C_3, C_4, C_5, C_Hp, C_Hn, C_H2Op):\n",
    "    E_ocv = E_p0 - E_n0 + R*T/F*torch.log((C_2*C_5*C_Hp*torch.pow(C_Hp, 2))/(C_3*C_4*C_Hn*C_H2Op))\n",
    "\n",
    "    return E_ocv"
   ]
  },
  {
   "cell_type": "markdown",
   "metadata": {},
   "source": [
    "数据读取"
   ]
  },
  {
   "cell_type": "code",
   "execution_count": 15,
   "metadata": {},
   "outputs": [],
   "source": [
    "excel_index = 1\n",
    "df = pd.read_excel(f'data/test{excel_index}.xlsx') \n",
    "\n",
    "# 前 3 列和 5,6 数据读取为 dataX\n",
    "dataX = df.iloc[:, [0,1,2,4,5]].values\n",
    "dataX = torch.from_numpy(dataX).float()\n",
    "\n",
    "# 第 7 列数据读取为 dataY\n",
    "dataY = df.iloc[:, 6].values\n",
    "dataY = torch.from_numpy(dataY).float().reshape(-1, 1)\n",
    "\n",
    "# 输入 T(t), I(t), SoC(t), Q, C_V0\n",
    "T, I, SoC, Q, C_V0 = dataX[:, 0], dataX[:, 1], dataX[:, 2], dataX[:, 3], dataX[:, 4]"
   ]
  },
  {
   "cell_type": "markdown",
   "metadata": {},
   "source": [
    "端电压输出"
   ]
  },
  {
   "cell_type": "code",
   "execution_count": 16,
   "metadata": {},
   "outputs": [
    {
     "name": "stdout",
     "output_type": "stream",
     "text": [
      "均方误差 (MSE): 0.02502964250743389\n",
      "均方根误差 (RMSE): 0.15820759534835815\n"
     ]
    },
    {
     "data": {
      "image/png": "[encoded data removed]",
      "text/plain": [
       "<Figure size 640x480 with 1 Axes>"
      ]
     },
     "metadata": {},
     "output_type": "display_data"
    }
   ],
   "source": [
    "# 计算端电压\n",
    "C_2, C_3, C_4, C_5, C_Hn, C_Hp, C_H2Op = get_con(SoC, C_V0, C_Hp0, C_Hn0, C_H2Op0)\n",
    "e_con = E_con(T, I, Q, C_2, C_3, C_4, C_5)\n",
    "e_act = E_act(T, I, S, k_p, k_n, C_2, C_3, C_4, C_5)\n",
    "e_ohm = E_ohm(theta_e, T, I)\n",
    "e_ocv = E_ocv(T, C_2, C_3, C_4, C_5, C_Hp, C_Hn, C_H2Op)\n",
    "e_cell = e_con + e_act + e_ohm + e_ocv\n",
    "e_cell = e_cell.float().reshape(-1, 1)\n",
    "\n",
    "# 计算误差\n",
    "# 1. 计算预测值与目标值之差\n",
    "residuals = e_cell - dataY\n",
    "\n",
    "# 2. 将残差平方\n",
    "squared_residuals = residuals.pow(2)\n",
    "\n",
    "# 3. 对所有平方残差求平均，得到MSE\n",
    "mse_loss = squared_residuals.mean()\n",
    "\n",
    "# 4. 对MSE取平方根，得到RMSE\n",
    "rmse_loss = mse_loss.sqrt()\n",
    "\n",
    "print(\"均方误差 (MSE):\", mse_loss.item())\n",
    "print(\"均方根误差 (RMSE):\", rmse_loss.item())\n",
    "\n",
    "# 绘制图形\n",
    "plot_len =600\n",
    "# 提取一个或几个特征进行可视化，假设选择第一个特征\n",
    "feature_idx = 0\n",
    "pred_values = e_cell[-plot_len:, feature_idx]\n",
    "target_values = dataY[-plot_len:, feature_idx]\n",
    "\n",
    "# 创建数据长度（索引）张量\n",
    "data_length = torch.arange(plot_len)\n",
    "\n",
    "# 绘制预测值折线图\n",
    "plt.plot(data_length, pred_values, label=\"Predictions\", color='red', marker='o')\n",
    "\n",
    "# 绘制目标值折线图\n",
    "plt.plot(data_length, target_values, label=\"Targets\", color='blue', marker='o')\n",
    "\n",
    "# 添加图例和坐标轴标签\n",
    "plt.xlabel(\"Data Length (Index)\")\n",
    "plt.ylabel(\"Feature Values\")\n",
    "plt.legend()\n",
    "\n",
    "# 显示图形\n",
    "plt.show()"
   ]
  }
 ],
 "metadata": {
  "kernelspec": {
   "display_name": "zjjtorch",
   "language": "python",
   "name": "python3"
  },
  "language_info": {
   "codemirror_mode": {
    "name": "ipython",
    "version": 3
   },
   "file_extension": ".py",
   "mimetype": "text/x-python",
   "name": "python",
   "nbconvert_exporter": "python",
   "pygments_lexer": "ipython3",
   "version": "3.9.18"
  }
 },
 "nbformat": 4,
 "nbformat_minor": 2
}
