{
 "cells": [
  {
   "cell_type": "code",
   "execution_count": 39,
   "metadata": {},
   "outputs": [],
   "source": [
    "import math\n",
    "import torch\n",
    "import numpy as np"
   ]
  },
  {
   "cell_type": "markdown",
   "metadata": {},
   "source": [
    "电化学模型参数"
   ]
  },
  {
   "cell_type": "code",
   "execution_count": 40,
   "metadata": {},
   "outputs": [],
   "source": [
    "# 定义常量\n",
    "R = 8.314\n",
    "F = 96485\n",
    "L = 22  # 隔膜电导率参数，需要根据实际情况进行调整\n",
    "A_e = 0.0025\n",
    "w_e = 0.003  # 电极厚度，需要根据实际情况进行调整\n",
    "V_e = A_e * w_e\n",
    "w_c = 0.015  # 集流体厚度，需要根据实际情况进行调整\n",
    "theta_c = 58200000  # 集流体电导率，需要根据实际情况进行调整\n",
    "w_m = 0.000127  # 离子交换膜厚度，需要根据实际情况进行调整\n",
    "E_p0 = 1.002\n",
    "E_n0 = -0.255\n",
    "n_d = 2.5\n",
    "C_Hp0 = 3850\n",
    "C_Hn0 = 3030\n",
    "C_H2Op0 = 44600\n",
    "\n",
    "# 电池参数 S, k_p, k_n, theta_e\n",
    "S = 420\n",
    "k_p = 0.0001114\n",
    "k_n = 0.00001798\n",
    "theta_e = 1000"
   ]
  },
  {
   "cell_type": "markdown",
   "metadata": {},
   "source": [
    "函数"
   ]
  },
  {
   "cell_type": "code",
   "execution_count": 41,
   "metadata": {},
   "outputs": [],
   "source": [
    "def get_con(SoC, C_V0, C_Hp0, C_Hn0, C_H2Op0):\n",
    "    C_2 = C_V0*SoC\n",
    "    C_3 = C_V0*(1 - SoC)\n",
    "    C_4 = C_V0*(1 - SoC)\n",
    "    C_5 = C_V0*SoC\n",
    "    C_Hn = C_Hn0 + C_V0*SoC\n",
    "    C_Hp = C_Hp0 + C_V0*SoC\n",
    "    C_H2Op = C_H2Op0 - (1 + n_d)*C_V0*SoC\n",
    "    return C_2, C_3, C_4, C_5, C_Hn, C_Hp, C_H2Op\n",
    "\n",
    "\n",
    "def E_con(T, I, Q, C_2, C_3, C_4, C_5):\n",
    "\n",
    "    if I > 0:\n",
    "        E_con_p = -R*T/F*(-I/(1.43*math.pow(10, -4)*F*math.pow(Q/A_e, 0.4)*C_4))\n",
    "        E_con_n = -R*T/F*(-I/(1.43*math.pow(10, -4)*F*math.pow(Q/A_e, 0.4)*C_3))\n",
    "    \n",
    "\n",
    "    if I < 0:\n",
    "        E_con_p = -R*T/F*(-I/(1.43*math.pow(10, -4)*F*math.pow(Q/A_e, 0.4)*C_5))\n",
    "        E_con_n = -R*T/F*(-I/(1.43*math.pow(10, -4)*F*math.pow(Q/A_e, 0.4)*C_2))\n",
    "\n",
    "    \n",
    "    E_con = E_con_p + E_con_n\n",
    "    \n",
    "    return E_con\n",
    "\n",
    "\n",
    "def E_act(T, I, S, k_p, k_n, C_2, C_3, C_4, C_5):\n",
    "\n",
    "    E_act = R*T*2/F*(math.asinh(I/S/V_e/2/F/k_p/math.sqrt(C_4*C_5)) + math.asinh(I/S/V_e/2/F/k_n/math.sqrt(C_2*C_3)))\n",
    "\n",
    "    return E_act\n",
    "\n",
    "\n",
    "def E_ohm(theta_e, T, I):\n",
    "    \n",
    "    theta_m = (0.5139*L - 0.326)*math.exp(1268*(1/303 - 1/T))\n",
    "\n",
    "    E_ohm = (2*w_c/theta_c + 2*w_e/theta_e + w_m/theta_m)*I/A_e\n",
    "\n",
    "    return E_ohm\n",
    "\n",
    "\n",
    "def E_ocv(T, C_2, C_3, C_4, C_5, C_Hp, C_Hn, C_H2Op):\n",
    "    E_ocv = E_p0 - E_n0 + R*T/F*math.log((C_2*C_5*C_Hp*math.pow(C_Hp, 2))/(C_3*C_4*C_Hn*C_H2Op))\n",
    "\n",
    "    return E_ocv"
   ]
  },
  {
   "cell_type": "markdown",
   "metadata": {},
   "source": [
    "端电压输出"
   ]
  },
  {
   "cell_type": "code",
   "execution_count": 42,
   "metadata": {},
   "outputs": [
    {
     "name": "stdout",
     "output_type": "stream",
     "text": [
      "1.196354416842862\n"
     ]
    }
   ],
   "source": [
    "# 输入 T(t), I(t), SoC(t), Q, C_V0\n",
    "T, I, SoC, Q, C_V0 = 292.387, 1, 0.004887909, 0.0012, 1500\n",
    "\n",
    "# 计算端电压\n",
    "C_2, C_3, C_4, C_5, C_Hn, C_Hp, C_H2Op = get_con(SoC, C_V0, C_Hp0, C_Hn0, C_H2Op0)\n",
    "e_con = E_con(T, I, Q, C_2, C_3, C_4, C_5)\n",
    "e_act = E_act(T, I, S, k_p, k_n, C_2, C_3, C_4, C_5)\n",
    "e_ohm = E_ohm(theta_e, T, I)\n",
    "e_ocv = E_ocv(T, C_2, C_3, C_4, C_5, C_Hp, C_Hn, C_H2Op)\n",
    "e_cell = e_con + e_act + e_ohm + e_ocv\n",
    "\n",
    "print(e_cell)"
   ]
  }
 ],
 "metadata": {
  "kernelspec": {
   "display_name": "zjjtorch",
   "language": "python",
   "name": "python3"
  },
  "language_info": {
   "codemirror_mode": {
    "name": "ipython",
    "version": 3
   },
   "file_extension": ".py",
   "mimetype": "text/x-python",
   "name": "python",
   "nbconvert_exporter": "python",
   "pygments_lexer": "ipython3",
   "version": "3.9.18"
  }
 },
 "nbformat": 4,
 "nbformat_minor": 2
}
