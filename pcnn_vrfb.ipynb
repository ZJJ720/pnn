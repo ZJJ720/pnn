{
 "cells": [
  {
   "cell_type": "code",
   "execution_count": 1,
   "metadata": {},
   "outputs": [],
   "source": [
    "import torch\n",
    "import torch.nn as nn\n",
    "from DNN_tools import *\n",
    "import random\n",
    "from torch.utils.data.dataloader import DataLoader\n",
    "import numpy as np\n",
    "from torch.optim.lr_scheduler import StepLR\n",
    "from sklearn.metrics import mean_squared_error\n",
    "from math import sqrt\n",
    "from tqdm import *\n",
    "import copy\n",
    "from physical_model import *\n",
    "\n",
    "\n",
    "def setup_seed(seed):\n",
    "    torch.manual_seed(seed)\n",
    "    torch.cuda.manual_seed_all(seed)\n",
    "    np.random.seed(seed)\n",
    "    random.seed(seed)\n",
    "    torch.backends.cudnn.deterministic = True\n",
    "\n",
    "\n",
    "# 设置随机数种子\n",
    "setup_seed(27)\n",
    "\n",
    "device = torch.device(\"cuda:0\" if torch.cuda.is_available() else \"cpu\")"
   ]
  },
  {
   "cell_type": "markdown",
   "metadata": {},
   "source": [
    "定义参数"
   ]
  },
  {
   "cell_type": "code",
   "execution_count": 2,
   "metadata": {},
   "outputs": [],
   "source": [
    "train_length  = 0.7\n",
    "batch_size    = 100\n",
    "num_epochs    = 100\n",
    "step_size     = 10 # 学习率变化周期\n",
    "gamma         = 0.5 # 学习率更新值\n",
    "learning_rate = 0.005 # 学习率\n",
    "\n",
    "# 电池参数\n",
    "C_Hp0         = 3850\n",
    "C_Hn0         = 3030\n",
    "C_H2Op0       = 44600\n",
    "S0            = 1000\n",
    "k_p0          = 0.0001\n",
    "k_n0          = 0.00005\n",
    "theta_e0      = 500"
   ]
  },
  {
   "cell_type": "markdown",
   "metadata": {},
   "source": [
    "数据预处理"
   ]
  },
  {
   "cell_type": "code",
   "execution_count": 3,
   "metadata": {},
   "outputs": [],
   "source": [
    "# 创建 dataset\n",
    "dataset_1 = create_dataset(1)\n",
    "dataset_2 = create_dataset(2)\n",
    "dataset_3 = create_dataset(3)\n",
    "dataset_4 = create_dataset(4)\n",
    "\n",
    "# 将数据的前 train_length 的数据作为训练集 train_set\n",
    "train_size_1 = int(dataset_1.shape[0] * train_length)\n",
    "train_size_2 = int(dataset_2.shape[0] * train_length)\n",
    "train_size_3 = int(dataset_3.shape[0] * train_length)\n",
    "train_size_4 = int(dataset_4.shape[0] * train_length)\n",
    "test_size = []\n",
    "test_size.append(dataset_1.shape[0] * (1 - train_length))\n",
    "test_size.append(dataset_2.shape[0] * (1 - train_length))\n",
    "test_size.append(dataset_3.shape[0] * (1 - train_length))\n",
    "test_size.append(dataset_4.shape[0] * (1 - train_length))\n",
    "\n",
    "# 分离出训练集和测试集\n",
    "train_data = []\n",
    "test_data = []\n",
    "train_data.append(dataset_1[0:train_size_1])\n",
    "test_data.append(dataset_1[train_size_1:])\n",
    "train_data.append(dataset_2[0:train_size_2])\n",
    "test_data.append(dataset_2[train_size_2:])\n",
    "train_data.append(dataset_3[0:train_size_3])\n",
    "test_data.append(dataset_3[train_size_3:])\n",
    "train_data.append(dataset_4[0:train_size_4])\n",
    "test_data.append(dataset_4[train_size_4:])\n",
    "\n",
    "train = np.concatenate((train_data[0], train_data[1], train_data[2], train_data[3]), axis=0)\n",
    "np.random.shuffle(train)\n",
    "\n",
    "# 数据归一化\n",
    "scaler, train_scaled = train_scale(train)\n",
    "dataset = DataPrepare(train_scaled) # 设置 inputs 和 labels\n",
    "train_loader = DataLoader(dataset=dataset, batch_size=batch_size, shuffle=False, drop_last=True)"
   ]
  },
  {
   "cell_type": "markdown",
   "metadata": {},
   "source": [
    "PCNN for VRFB Identification"
   ]
  },
  {
   "cell_type": "code",
   "execution_count": 4,
   "metadata": {},
   "outputs": [],
   "source": [
    "# 物理模型考虑欧姆极化 E_ohm 、浓差极化 E_con 、电化学极化 E_act\n",
    "# 参考：\n",
    "# 1. Physics-constrained deep neural network method for estimating parameters in a redox flow battery（整体架构参考）\n",
    "# 2. Dynamic Flow Rate Control for Vanadium Redox Flow Batteries（浓差极化公式以及对应物理常量参考）\n",
    "# 3. Design of A Two-Stage Control Strategy of Vanadium Redox Flow Battery Energy Storage Systems for Grid Application（浓差极化公式参考）\n",
    "\n",
    "# DNN\n",
    "# 模型输入量：T(t), I(t)，SoC(t), Q, C_V0\n",
    "# 模型输出量：k_n, k_p, S, theta_e\n",
    "# 模型标签量：U(t)\n",
    "\n",
    "\n",
    "# 定义全连接神经网络类\n",
    "\n",
    "class DNN(nn.Module):\n",
    "    def __init__(self, input_dim=5, output_dim=4, hidden_layers=[128]):\n",
    "        super(DNN, self).__init__()\n",
    "        \n",
    "        # 定义隐藏层\n",
    "        self.hidden_layers = nn.ModuleList()\n",
    "        layer_sizes = [input_dim] + hidden_layers\n",
    "        for i in range(len(hidden_layers)):\n",
    "            self.hidden_layers.append(nn.Linear(layer_sizes[i], layer_sizes[i+1]))\n",
    "            self.hidden_layers.append(nn.ReLU())  # 使用ReLU作为激活函数\n",
    "\n",
    "        # 定义输出层\n",
    "        self.output_layer = nn.Linear(hidden_layers[-1], output_dim)\n",
    "\n",
    "    def forward(self, x):\n",
    "        for linear in self.hidden_layers:\n",
    "            x = linear(x)\n",
    "        output = self.output_layer(x)\n",
    "        return output\n",
    "    \n",
    "\n",
    "# 创建模型实例\n",
    "model = DNN().to(device)\n",
    "\n",
    "# 定义损失函数和优化器\n",
    "loss_function = nn.MSELoss()\n",
    "loss_function = loss_function.to(device)\n",
    "optimizer = torch.optim.Adam(model.parameters(), lr=learning_rate)  # Adam 优化器\n",
    "scheduler = StepLR(optimizer, step_size=step_size, gamma=gamma)"
   ]
  },
  {
   "cell_type": "markdown",
   "metadata": {},
   "source": [
    "DNN 训练"
   ]
  },
  {
   "cell_type": "code",
   "execution_count": 6,
   "metadata": {},
   "outputs": [
    {
     "name": "stderr",
     "output_type": "stream",
     "text": [
      "  1%|          | 1/100 [00:19<31:55, 19.35s/it]"
     ]
    },
    {
     "name": "stdout",
     "output_type": "stream",
     "text": [
      "epoch 0 train_loss 0.03530818\n"
     ]
    },
    {
     "name": "stderr",
     "output_type": "stream",
     "text": [
      "  2%|▏         | 2/100 [00:40<33:44, 20.66s/it]"
     ]
    },
    {
     "name": "stdout",
     "output_type": "stream",
     "text": [
      "epoch 1 train_loss 0.03530818\n"
     ]
    },
    {
     "name": "stderr",
     "output_type": "stream",
     "text": [
      "  3%|▎         | 3/100 [01:00<32:29, 20.09s/it]"
     ]
    },
    {
     "name": "stdout",
     "output_type": "stream",
     "text": [
      "epoch 2 train_loss 0.03530818\n"
     ]
    },
    {
     "name": "stderr",
     "output_type": "stream",
     "text": [
      "  3%|▎         | 3/100 [01:06<36:05, 22.33s/it]\n"
     ]
    },
    {
     "ename": "KeyboardInterrupt",
     "evalue": "",
     "output_type": "error",
     "traceback": [
      "\u001b[1;31m---------------------------------------------------------------------------\u001b[0m",
      "\u001b[1;31mKeyboardInterrupt\u001b[0m                         Traceback (most recent call last)",
      "Cell \u001b[1;32mIn[6], line 38\u001b[0m\n\u001b[0;32m     36\u001b[0m C_2, C_3, C_4, C_5, C_Hn, C_Hp, C_H2Op \u001b[38;5;241m=\u001b[39m get_con(SoC, C_V0, C_Hp0, C_Hn0, C_H2Op0)\n\u001b[0;32m     37\u001b[0m e_con \u001b[38;5;241m=\u001b[39m E_con(T, I, Q, C_2, C_3, C_4, C_5)\n\u001b[1;32m---> 38\u001b[0m e_act \u001b[38;5;241m=\u001b[39m \u001b[43mE_act\u001b[49m\u001b[43m(\u001b[49m\u001b[43mT\u001b[49m\u001b[43m,\u001b[49m\u001b[43m \u001b[49m\u001b[43mI\u001b[49m\u001b[43m,\u001b[49m\u001b[43m \u001b[49m\u001b[43mS\u001b[49m\u001b[43m,\u001b[49m\u001b[43m \u001b[49m\u001b[43mk_p\u001b[49m\u001b[43m,\u001b[49m\u001b[43m \u001b[49m\u001b[43mk_n\u001b[49m\u001b[43m,\u001b[49m\u001b[43m \u001b[49m\u001b[43mC_2\u001b[49m\u001b[43m,\u001b[49m\u001b[43m \u001b[49m\u001b[43mC_3\u001b[49m\u001b[43m,\u001b[49m\u001b[43m \u001b[49m\u001b[43mC_4\u001b[49m\u001b[43m,\u001b[49m\u001b[43m \u001b[49m\u001b[43mC_5\u001b[49m\u001b[43m)\u001b[49m\n\u001b[0;32m     39\u001b[0m e_ohm \u001b[38;5;241m=\u001b[39m E_ohm(theta_e, T, I)\n\u001b[0;32m     40\u001b[0m e_ocv \u001b[38;5;241m=\u001b[39m E_ocv(T, C_2, C_3, C_4, C_5, C_Hp, C_Hn, C_H2Op)\n",
      "File \u001b[1;32md:\\文件资料\\MyCode\\PCNN\\physical_model.py:65\u001b[0m, in \u001b[0;36mE_act\u001b[1;34m(T, I, S, k_p, k_n, C_2, C_3, C_4, C_5)\u001b[0m\n\u001b[0;32m     60\u001b[0m \u001b[38;5;28;01mfor\u001b[39;00m i \u001b[38;5;129;01min\u001b[39;00m \u001b[38;5;28mrange\u001b[39m(\u001b[38;5;28mlen\u001b[39m(I)):\n\u001b[0;32m     61\u001b[0m     E_act\u001b[38;5;241m.\u001b[39mappend(R\u001b[38;5;241m*\u001b[39mT[i]\u001b[38;5;241m*\u001b[39m\u001b[38;5;241m2\u001b[39m\u001b[38;5;241m/\u001b[39mF\u001b[38;5;241m*\u001b[39m(math\u001b[38;5;241m.\u001b[39masinh(I[i]\u001b[38;5;241m/\u001b[39mS[i]\u001b[38;5;241m/\u001b[39mV_e\u001b[38;5;241m/\u001b[39m\u001b[38;5;241m2\u001b[39m\u001b[38;5;241m/\u001b[39mF\u001b[38;5;241m/\u001b[39mk_p[i]\u001b[38;5;241m/\u001b[39mmath\u001b[38;5;241m.\u001b[39msqrt(C_4[i]\u001b[38;5;241m*\u001b[39mC_5[i])) \n\u001b[0;32m     62\u001b[0m                              \u001b[38;5;241m+\u001b[39m math\u001b[38;5;241m.\u001b[39masinh(I[i]\u001b[38;5;241m/\u001b[39mS[i]\u001b[38;5;241m/\u001b[39mV_e\u001b[38;5;241m/\u001b[39m\u001b[38;5;241m2\u001b[39m\u001b[38;5;241m/\u001b[39mF\u001b[38;5;241m/\u001b[39mk_n[i]\u001b[38;5;241m/\u001b[39mmath\u001b[38;5;241m.\u001b[39msqrt(C_2[i]\u001b[38;5;241m*\u001b[39mC_3[i]))))\n\u001b[1;32m---> 65\u001b[0m E_act \u001b[38;5;241m=\u001b[39m \u001b[43mnp\u001b[49m\u001b[38;5;241;43m.\u001b[39;49m\u001b[43marray\u001b[49m\u001b[43m(\u001b[49m\u001b[43mE_act\u001b[49m\u001b[43m)\u001b[49m\n\u001b[0;32m     66\u001b[0m E_act \u001b[38;5;241m=\u001b[39m torch\u001b[38;5;241m.\u001b[39mtensor(E_act)\n\u001b[0;32m     67\u001b[0m \u001b[38;5;28;01mreturn\u001b[39;00m E_act\n",
      "\u001b[1;31mKeyboardInterrupt\u001b[0m: "
     ]
    }
   ],
   "source": [
    "# 训练模型\n",
    "min_epochs = 10\n",
    "best_model = None\n",
    "min_loss = 1\n",
    "\n",
    "for epoch in tqdm(range(num_epochs)):\n",
    "    train_loss = []\n",
    "    model.train()\n",
    "    for i, data in enumerate(train_loader, 0):\n",
    "        inputs, labels = data\n",
    "        inputs, labels = inputs.to(device), labels.to(device)\n",
    "        inputs = inputs.reshape(batch_size, 1, 5)\n",
    "\n",
    "        # 梯度清零\n",
    "        optimizer.zero_grad()\n",
    "        inputs = inputs.to(torch.float32)\n",
    "        labels = labels.to(torch.float32)\n",
    "\n",
    "        # 前向传播\n",
    "        outputs = model(inputs)\n",
    "        outputs = outputs.reshape(batch_size, 4)\n",
    "        S = []\n",
    "        k_p = []\n",
    "        k_n = []\n",
    "        theta_e = []\n",
    "        # 计算端电压\n",
    "        for i in range(batch_size):\n",
    "            S.append(S0 * math.exp(outputs[i, 0]))\n",
    "            k_p.append(k_p0 * math.exp(outputs[i, 1]))\n",
    "            k_n.append(k_n0 * math.exp(outputs[i, 2]))\n",
    "            theta_e.append(theta_e0 * math.exp(outputs[i, 3]))\n",
    "\n",
    "        S, k_p, k_n, theta_e = np.array(S), np.array(k_p), np.array(k_n), np.array(theta_e)\n",
    "        S, k_p, k_n, theta_e = torch.tensor(S), torch.tensor(k_p), torch.tensor(k_n), torch.tensor(theta_e)\n",
    "        T, I, SoC, Q, C_V0, U = train_invert_scale(scaler, inputs.reshape(-1, 5).cpu().numpy(), labels.reshape(-1, 1).cpu().detach().numpy())\n",
    "        C_2, C_3, C_4, C_5, C_Hn, C_Hp, C_H2Op = get_con(SoC, C_V0, C_Hp0, C_Hn0, C_H2Op0)\n",
    "        e_con = E_con(T, I, Q, C_2, C_3, C_4, C_5)\n",
    "        e_act = E_act(T, I, S, k_p, k_n, C_2, C_3, C_4, C_5)\n",
    "        e_ohm = E_ohm(theta_e, T, I)\n",
    "        e_ocv = E_ocv(T, C_2, C_3, C_4, C_5, C_Hp, C_Hn, C_H2Op)\n",
    "        e_cell = e_con + e_act + e_ohm + e_ocv\n",
    "        torch.Tensor(e_cell)\n",
    "\n",
    "        # 计算损失\n",
    "        loss = loss_function(U, e_cell)\n",
    "        loss.requires_grad = True\n",
    "        train_loss.append(loss.cpu().item())\n",
    "\n",
    "        # 更新梯度\n",
    "        loss.backward()\n",
    "\n",
    "        # 优化参数\n",
    "        optimizer.step()  # 更新每个网络的权重\n",
    "\n",
    "\n",
    "    scheduler.step()\n",
    "\n",
    "    if epoch > min_epochs and loss < min_loss:\n",
    "        min_val_loss = loss\n",
    "        best_model = copy.deepcopy(model)\n",
    "\n",
    "\n",
    "    train_loss = np.array(train_loss)\n",
    "    print('epoch {} train_loss {:.8f}'.format(epoch, train_loss[50]))\n",
    "\n",
    "    torch.save(model, f'./result/DNN_model.pth')\n",
    "\n",
    "\n"
   ]
  }
 ],
 "metadata": {
  "kernelspec": {
   "display_name": "zjjtorch",
   "language": "python",
   "name": "python3"
  },
  "language_info": {
   "codemirror_mode": {
    "name": "ipython",
    "version": 3
   },
   "file_extension": ".py",
   "mimetype": "text/x-python",
   "name": "python",
   "nbconvert_exporter": "python",
   "pygments_lexer": "ipython3",
   "version": "3.10.13"
  }
 },
 "nbformat": 4,
 "nbformat_minor": 2
}
