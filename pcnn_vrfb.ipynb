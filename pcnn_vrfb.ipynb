{
 "cells": [
  {
   "cell_type": "code",
   "execution_count": 1,
   "metadata": {},
   "outputs": [],
   "source": [
    "import torch\n",
    "import torch.nn as nn\n",
    "from DNN_tools import *\n",
    "import random\n",
    "from torch.utils.data.dataloader import DataLoader\n",
    "import numpy as np\n",
    "from torch.optim.lr_scheduler import StepLR\n",
    "from sklearn.metrics import mean_squared_error\n",
    "from math import sqrt\n",
    "from tqdm import *\n",
    "import copy\n",
    "from physical_model import *\n",
    "\n",
    "\n",
    "def setup_seed(seed):\n",
    "    torch.manual_seed(seed)\n",
    "    torch.cuda.manual_seed_all(seed)\n",
    "    np.random.seed(seed)\n",
    "    random.seed(seed)\n",
    "    torch.backends.cudnn.deterministic = True\n",
    "\n",
    "\n",
    "# 设置随机数种子\n",
    "setup_seed(27)\n",
    "\n",
    "device = torch.device(\"cuda:0\" if torch.cuda.is_available() else \"cpu\")"
   ]
  },
  {
   "cell_type": "markdown",
   "metadata": {},
   "source": [
    "定义参数"
   ]
  },
  {
   "cell_type": "code",
   "execution_count": 2,
   "metadata": {},
   "outputs": [],
   "source": [
    "train_length  = 0.7\n",
    "batch_size    = 100\n",
    "num_epochs    = 100\n",
    "step_size     = 10 # 学习率变化周期\n",
    "gamma         = 0.5 # 学习率更新值\n",
    "learning_rate = 0.005 # 学习率\n",
    "\n",
    "# 电池参数\n",
    "C_Hp0         = 3850\n",
    "C_Hn0         = 3030\n",
    "C_H2Op0       = 44600\n",
    "S0            = 1000\n",
    "k_p0          = 0.0001\n",
    "k_n0          = 0.00005\n",
    "theta_e0      = 500"
   ]
  },
  {
   "cell_type": "markdown",
   "metadata": {},
   "source": [
    "数据预处理"
   ]
  },
  {
   "cell_type": "code",
   "execution_count": 3,
   "metadata": {},
   "outputs": [],
   "source": [
    "# 创建 dataset\n",
    "dataset_1 = create_dataset(1)\n",
    "dataset_2 = create_dataset(2)\n",
    "dataset_3 = create_dataset(3)\n",
    "dataset_4 = create_dataset(4)\n",
    "\n",
    "# 将数据的前 train_length 的数据作为训练集 train_set\n",
    "train_size_1 = int(dataset_1.shape[0] * train_length)\n",
    "train_size_2 = int(dataset_2.shape[0] * train_length)\n",
    "train_size_3 = int(dataset_3.shape[0] * train_length)\n",
    "train_size_4 = int(dataset_4.shape[0] * train_length)\n",
    "test_size = []\n",
    "test_size.append(dataset_1.shape[0] * (1 - train_length))\n",
    "test_size.append(dataset_2.shape[0] * (1 - train_length))\n",
    "test_size.append(dataset_3.shape[0] * (1 - train_length))\n",
    "test_size.append(dataset_4.shape[0] * (1 - train_length))\n",
    "\n",
    "# 分离出训练集和测试集\n",
    "train_data = []\n",
    "test_data = []\n",
    "train_data.append(dataset_1[0:train_size_1])\n",
    "test_data.append(dataset_1[train_size_1:])\n",
    "train_data.append(dataset_2[0:train_size_2])\n",
    "test_data.append(dataset_2[train_size_2:])\n",
    "train_data.append(dataset_3[0:train_size_3])\n",
    "test_data.append(dataset_3[train_size_3:])\n",
    "train_data.append(dataset_4[0:train_size_4])\n",
    "test_data.append(dataset_4[train_size_4:])\n",
    "\n",
    "train = np.concatenate((train_data[0], train_data[1], train_data[2], train_data[3]), axis=0)\n",
    "np.random.shuffle(train)\n",
    "\n",
    "# 数据归一化\n",
    "scaler, train_scaled = train_scale(train)\n",
    "dataset = DataPrepare(train_scaled) # 设置 inputs 和 labels\n",
    "train_loader = DataLoader(dataset=dataset, batch_size=batch_size, shuffle=False, drop_last=True)"
   ]
  },
  {
   "cell_type": "markdown",
   "metadata": {},
   "source": [
    "PCNN for VRFB Identification"
   ]
  },
  {
   "cell_type": "code",
   "execution_count": 4,
   "metadata": {},
   "outputs": [],
   "source": [
    "# 物理模型考虑欧姆极化 E_ohm 、浓差极化 E_con 、电化学极化 E_act\n",
    "# 参考：\n",
    "# 1. Physics-constrained deep neural network method for estimating parameters in a redox flow battery（整体架构参考）\n",
    "# 2. Dynamic Flow Rate Control for Vanadium Redox Flow Batteries（浓差极化公式以及对应物理常量参考）\n",
    "# 3. Design of A Two-Stage Control Strategy of Vanadium Redox Flow Battery Energy Storage Systems for Grid Application（浓差极化公式参考）\n",
    "\n",
    "# DNN\n",
    "# 模型输入量：T(t), I(t)，SoC(t), Q, C_V0\n",
    "# 模型输出量：k_n, k_p, S, theta_e\n",
    "# 模型标签量：U(t)\n",
    "\n",
    "\n",
    "# 定义全连接神经网络类\n",
    "\n",
    "class DNN(nn.Module):\n",
    "    def __init__(self, input_dim=5, output_dim=4, hidden_layers=[128]):\n",
    "        super(DNN, self).__init__()\n",
    "        \n",
    "        # 定义隐藏层\n",
    "        self.hidden_layers = nn.ModuleList()\n",
    "        layer_sizes = [input_dim] + hidden_layers\n",
    "        for i in range(len(hidden_layers)):\n",
    "            self.hidden_layers.append(nn.Linear(layer_sizes[i], layer_sizes[i+1]))\n",
    "            self.hidden_layers.append(nn.ReLU())  # 使用ReLU作为激活函数\n",
    "\n",
    "        # 定义输出层\n",
    "        self.output_layer = nn.Linear(hidden_layers[-1], output_dim)\n",
    "\n",
    "    def forward(self, x):\n",
    "        for linear in self.hidden_layers:\n",
    "            x = linear(x)\n",
    "        output = self.output_layer(x)\n",
    "        return output\n",
    "\n",
    "\n",
    "# 自定义损失函数\n",
    "class CustomLoss(nn.Module):\n",
    "    def __init__(self):\n",
    "        super(CustomLoss, self).__init__()\n",
    "\n",
    "    def forward(self, inputs, preds, labels):\n",
    "        # 自定义损失逻辑\n",
    "        S = preds[:, 0]\n",
    "        k_p = preds[:, 1]\n",
    "        k_n = preds[:, 2]\n",
    "        theta_e = preds[:, 3]\n",
    "        S = S0 * torch.exp(S).cpu()\n",
    "        k_p = k_p0 * torch.exp(k_p).cpu()\n",
    "        k_n = k_n0 * torch.exp(k_n).cpu()\n",
    "        theta_e = theta_e0 * torch.exp(theta_e).cpu()\n",
    "        T, I, SoC, Q, C_V0, U = train_invert_scale(scaler, inputs.view(-1, 5).cpu().numpy(), labels.view(-1, 1).cpu().detach().numpy())\n",
    "        C_2, C_3, C_4, C_5, C_Hn, C_Hp, C_H2Op = get_con(SoC, C_V0, C_Hp0, C_Hn0, C_H2Op0)\n",
    "        e_con = E_con(T, I, Q, C_2, C_3, C_4, C_5)\n",
    "        e_act = E_act(T, I, S, k_p, k_n, C_2, C_3, C_4, C_5)\n",
    "        e_ohm = E_ohm(theta_e, T, I)\n",
    "        e_ocv = E_ocv(T, C_2, C_3, C_4, C_5, C_Hp, C_Hn, C_H2Op)\n",
    "        e_cell = e_con + e_act + e_ohm + e_ocv\n",
    "        e_cell.to(device)\n",
    "        U.to(device)\n",
    "        loss = torch.mean((e_cell - U) ** 2)\n",
    "        return loss\n",
    "\n",
    "\n",
    "\n",
    "# 创建模型实例\n",
    "model = DNN().to(device)\n",
    "\n",
    "\n",
    "# 定义损失函数和优化器\n",
    "loss_function = CustomLoss()\n",
    "loss_function = loss_function.to(device)\n",
    "optimizer = torch.optim.Adam(model.parameters(), lr=learning_rate)  # Adam 优化器\n",
    "scheduler = StepLR(optimizer, step_size=step_size, gamma=gamma)"
   ]
  },
  {
   "cell_type": "markdown",
   "metadata": {},
   "source": [
    "DNN 训练"
   ]
  },
  {
   "cell_type": "code",
   "execution_count": 5,
   "metadata": {},
   "outputs": [
    {
     "name": "stderr",
     "output_type": "stream",
     "text": [
      "  1%|          | 1/100 [00:04<07:27,  4.52s/it]"
     ]
    },
    {
     "name": "stdout",
     "output_type": "stream",
     "text": [
      "epoch 0 train_loss 0.00132839\n"
     ]
    },
    {
     "name": "stderr",
     "output_type": "stream",
     "text": [
      "  2%|▏         | 2/100 [00:09<08:02,  4.92s/it]"
     ]
    },
    {
     "name": "stdout",
     "output_type": "stream",
     "text": [
      "epoch 1 train_loss nan\n"
     ]
    },
    {
     "name": "stderr",
     "output_type": "stream",
     "text": [
      "  3%|▎         | 3/100 [00:15<08:43,  5.40s/it]"
     ]
    },
    {
     "name": "stdout",
     "output_type": "stream",
     "text": [
      "epoch 2 train_loss nan\n"
     ]
    },
    {
     "name": "stderr",
     "output_type": "stream",
     "text": [
      "  3%|▎         | 3/100 [00:18<10:12,  6.31s/it]\n"
     ]
    },
    {
     "ename": "KeyboardInterrupt",
     "evalue": "",
     "output_type": "error",
     "traceback": [
      "\u001b[1;31m---------------------------------------------------------------------------\u001b[0m",
      "\u001b[1;31mKeyboardInterrupt\u001b[0m                         Traceback (most recent call last)",
      "Cell \u001b[1;32mIn[5], line 23\u001b[0m\n\u001b[0;32m     20\u001b[0m preds \u001b[38;5;241m=\u001b[39m model(inputs)\n\u001b[0;32m     22\u001b[0m \u001b[38;5;66;03m# 计算损失\u001b[39;00m\n\u001b[1;32m---> 23\u001b[0m loss \u001b[38;5;241m=\u001b[39m \u001b[43mloss_function\u001b[49m\u001b[43m(\u001b[49m\u001b[43minputs\u001b[49m\u001b[43m,\u001b[49m\u001b[43m \u001b[49m\u001b[43mpreds\u001b[49m\u001b[43m,\u001b[49m\u001b[43m \u001b[49m\u001b[43mlabels\u001b[49m\u001b[43m)\u001b[49m\n\u001b[0;32m     24\u001b[0m train_loss\u001b[38;5;241m.\u001b[39mappend(loss\u001b[38;5;241m.\u001b[39mcpu()\u001b[38;5;241m.\u001b[39mitem())\n\u001b[0;32m     26\u001b[0m \u001b[38;5;66;03m# 更新梯度\u001b[39;00m\n",
      "File \u001b[1;32mc:\\Users\\Zhu12\\anaconda3\\envs\\zjjtorch\\lib\\site-packages\\torch\\nn\\modules\\module.py:1518\u001b[0m, in \u001b[0;36mModule._wrapped_call_impl\u001b[1;34m(self, *args, **kwargs)\u001b[0m\n\u001b[0;32m   1516\u001b[0m     \u001b[38;5;28;01mreturn\u001b[39;00m \u001b[38;5;28mself\u001b[39m\u001b[38;5;241m.\u001b[39m_compiled_call_impl(\u001b[38;5;241m*\u001b[39margs, \u001b[38;5;241m*\u001b[39m\u001b[38;5;241m*\u001b[39mkwargs)  \u001b[38;5;66;03m# type: ignore[misc]\u001b[39;00m\n\u001b[0;32m   1517\u001b[0m \u001b[38;5;28;01melse\u001b[39;00m:\n\u001b[1;32m-> 1518\u001b[0m     \u001b[38;5;28;01mreturn\u001b[39;00m \u001b[38;5;28mself\u001b[39m\u001b[38;5;241m.\u001b[39m_call_impl(\u001b[38;5;241m*\u001b[39margs, \u001b[38;5;241m*\u001b[39m\u001b[38;5;241m*\u001b[39mkwargs)\n",
      "File \u001b[1;32mc:\\Users\\Zhu12\\anaconda3\\envs\\zjjtorch\\lib\\site-packages\\torch\\nn\\modules\\module.py:1527\u001b[0m, in \u001b[0;36mModule._call_impl\u001b[1;34m(self, *args, **kwargs)\u001b[0m\n\u001b[0;32m   1522\u001b[0m \u001b[38;5;66;03m# If we don't have any hooks, we want to skip the rest of the logic in\u001b[39;00m\n\u001b[0;32m   1523\u001b[0m \u001b[38;5;66;03m# this function, and just call forward.\u001b[39;00m\n\u001b[0;32m   1524\u001b[0m \u001b[38;5;28;01mif\u001b[39;00m \u001b[38;5;129;01mnot\u001b[39;00m (\u001b[38;5;28mself\u001b[39m\u001b[38;5;241m.\u001b[39m_backward_hooks \u001b[38;5;129;01mor\u001b[39;00m \u001b[38;5;28mself\u001b[39m\u001b[38;5;241m.\u001b[39m_backward_pre_hooks \u001b[38;5;129;01mor\u001b[39;00m \u001b[38;5;28mself\u001b[39m\u001b[38;5;241m.\u001b[39m_forward_hooks \u001b[38;5;129;01mor\u001b[39;00m \u001b[38;5;28mself\u001b[39m\u001b[38;5;241m.\u001b[39m_forward_pre_hooks\n\u001b[0;32m   1525\u001b[0m         \u001b[38;5;129;01mor\u001b[39;00m _global_backward_pre_hooks \u001b[38;5;129;01mor\u001b[39;00m _global_backward_hooks\n\u001b[0;32m   1526\u001b[0m         \u001b[38;5;129;01mor\u001b[39;00m _global_forward_hooks \u001b[38;5;129;01mor\u001b[39;00m _global_forward_pre_hooks):\n\u001b[1;32m-> 1527\u001b[0m     \u001b[38;5;28;01mreturn\u001b[39;00m forward_call(\u001b[38;5;241m*\u001b[39margs, \u001b[38;5;241m*\u001b[39m\u001b[38;5;241m*\u001b[39mkwargs)\n\u001b[0;32m   1529\u001b[0m \u001b[38;5;28;01mtry\u001b[39;00m:\n\u001b[0;32m   1530\u001b[0m     result \u001b[38;5;241m=\u001b[39m \u001b[38;5;28;01mNone\u001b[39;00m\n",
      "Cell \u001b[1;32mIn[4], line 48\u001b[0m, in \u001b[0;36mCustomLoss.forward\u001b[1;34m(self, inputs, preds, labels)\u001b[0m\n\u001b[0;32m     46\u001b[0m theta_e \u001b[38;5;241m=\u001b[39m preds[:, \u001b[38;5;241m3\u001b[39m]\n\u001b[0;32m     47\u001b[0m S \u001b[38;5;241m=\u001b[39m S0 \u001b[38;5;241m*\u001b[39m torch\u001b[38;5;241m.\u001b[39mexp(S)\u001b[38;5;241m.\u001b[39mcpu()\n\u001b[1;32m---> 48\u001b[0m k_p \u001b[38;5;241m=\u001b[39m k_p0 \u001b[38;5;241m*\u001b[39m \u001b[43mtorch\u001b[49m\u001b[38;5;241;43m.\u001b[39;49m\u001b[43mexp\u001b[49m\u001b[43m(\u001b[49m\u001b[43mk_p\u001b[49m\u001b[43m)\u001b[49m\u001b[38;5;241;43m.\u001b[39;49m\u001b[43mcpu\u001b[49m\u001b[43m(\u001b[49m\u001b[43m)\u001b[49m\n\u001b[0;32m     49\u001b[0m k_n \u001b[38;5;241m=\u001b[39m k_n0 \u001b[38;5;241m*\u001b[39m torch\u001b[38;5;241m.\u001b[39mexp(k_n)\u001b[38;5;241m.\u001b[39mcpu()\n\u001b[0;32m     50\u001b[0m theta_e \u001b[38;5;241m=\u001b[39m theta_e0 \u001b[38;5;241m*\u001b[39m torch\u001b[38;5;241m.\u001b[39mexp(theta_e)\u001b[38;5;241m.\u001b[39mcpu()\n",
      "\u001b[1;31mKeyboardInterrupt\u001b[0m: "
     ]
    }
   ],
   "source": [
    "# 训练模型\n",
    "min_epochs = 10\n",
    "best_model = None\n",
    "min_loss = 1\n",
    "\n",
    "for epoch in tqdm(range(num_epochs)):\n",
    "    train_loss = []\n",
    "    model.train()\n",
    "    for i, data in enumerate(train_loader, 0):\n",
    "        inputs, labels = data\n",
    "        inputs, labels = inputs.to(device), labels.to(device)\n",
    "        inputs = inputs.reshape(batch_size, 5)\n",
    "\n",
    "        # 梯度清零\n",
    "        optimizer.zero_grad()\n",
    "        inputs = inputs.to(torch.float32)\n",
    "        labels = labels.to(torch.float32)\n",
    "\n",
    "        # 前向传播\n",
    "        preds = model(inputs)\n",
    "\n",
    "        # 计算损失\n",
    "        loss = loss_function(inputs, preds, labels)\n",
    "        train_loss.append(loss.cpu().item())\n",
    "\n",
    "        # 更新梯度\n",
    "        loss.backward()\n",
    "\n",
    "        # 优化参数\n",
    "        optimizer.step()  # 更新每个网络的权重\n",
    "\n",
    "\n",
    "    scheduler.step()\n",
    "\n",
    "    if epoch > min_epochs and loss < min_loss:\n",
    "        min_val_loss = loss\n",
    "        best_model = copy.deepcopy(model)\n",
    "\n",
    "\n",
    "    train_loss = np.array(train_loss)\n",
    "    print('epoch {} train_loss {:.8f}'.format(epoch, train_loss[50]))\n",
    "\n",
    "    torch.save(model, f'./result/DNN_model.pth')\n",
    "\n",
    "\n"
   ]
  }
 ],
 "metadata": {
  "kernelspec": {
   "display_name": "zjjtorch",
   "language": "python",
   "name": "python3"
  },
  "language_info": {
   "codemirror_mode": {
    "name": "ipython",
    "version": 3
   },
   "file_extension": ".py",
   "mimetype": "text/x-python",
   "name": "python",
   "nbconvert_exporter": "python",
   "pygments_lexer": "ipython3",
   "version": "3.10.13"
  }
 },
 "nbformat": 4,
 "nbformat_minor": 2
}
