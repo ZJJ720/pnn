{
 "cells": [
  {
   "cell_type": "code",
   "execution_count": 1,
   "metadata": {},
   "outputs": [
    {
     "ename": "KeyboardInterrupt",
     "evalue": "",
     "output_type": "error",
     "traceback": [
      "\u001b[1;31m---------------------------------------------------------------------------\u001b[0m",
      "\u001b[1;31mKeyboardInterrupt\u001b[0m                         Traceback (most recent call last)",
      "Cell \u001b[1;32mIn[1], line 14\u001b[0m\n\u001b[0;32m     12\u001b[0m \u001b[38;5;28;01mwhile\u001b[39;00m i \u001b[38;5;241m<\u001b[39m max_row_num:\n\u001b[0;32m     13\u001b[0m     \u001b[38;5;28;01mif\u001b[39;00m ws\u001b[38;5;241m.\u001b[39mcell(row\u001b[38;5;241m=\u001b[39mrow_n,column\u001b[38;5;241m=\u001b[39mcol_n)\u001b[38;5;241m.\u001b[39mvalue \u001b[38;5;241m>\u001b[39m\u001b[38;5;241m=\u001b[39m \u001b[38;5;241m0\u001b[39m:\n\u001b[1;32m---> 14\u001b[0m         \u001b[43mws\u001b[49m\u001b[38;5;241;43m.\u001b[39;49m\u001b[43mdelete_rows\u001b[49m\u001b[43m(\u001b[49m\u001b[43mrow_n\u001b[49m\u001b[43m)\u001b[49m\n\u001b[0;32m     15\u001b[0m         \u001b[38;5;66;03m# print(f\"删除第{row_n}行\")\u001b[39;00m\n\u001b[0;32m     16\u001b[0m     \u001b[38;5;28;01melse\u001b[39;00m:\n\u001b[0;32m     17\u001b[0m         \u001b[38;5;66;03m# print(ws.cell(row=row_n,column=5).value,row_n,sep='\\t')\u001b[39;00m\n\u001b[0;32m     18\u001b[0m         row_n\u001b[38;5;241m+\u001b[39m\u001b[38;5;241m=\u001b[39m\u001b[38;5;241m1\u001b[39m\n",
      "File \u001b[1;32mc:\\Users\\Zhu12\\anaconda3\\envs\\zjjtorch\\lib\\site-packages\\openpyxl\\worksheet\\worksheet.py:731\u001b[0m, in \u001b[0;36mWorksheet.delete_rows\u001b[1;34m(self, idx, amount)\u001b[0m\n\u001b[0;32m    725\u001b[0m \u001b[38;5;250m\u001b[39m\u001b[38;5;124;03m\"\"\"\u001b[39;00m\n\u001b[0;32m    726\u001b[0m \u001b[38;5;124;03mDelete row or rows from row==idx\u001b[39;00m\n\u001b[0;32m    727\u001b[0m \u001b[38;5;124;03m\"\"\"\u001b[39;00m\n\u001b[0;32m    729\u001b[0m remainder \u001b[38;5;241m=\u001b[39m _gutter(idx, amount, \u001b[38;5;28mself\u001b[39m\u001b[38;5;241m.\u001b[39mmax_row)\n\u001b[1;32m--> 731\u001b[0m \u001b[38;5;28;43mself\u001b[39;49m\u001b[38;5;241;43m.\u001b[39;49m\u001b[43m_move_cells\u001b[49m\u001b[43m(\u001b[49m\u001b[43mmin_row\u001b[49m\u001b[38;5;241;43m=\u001b[39;49m\u001b[43midx\u001b[49m\u001b[38;5;241;43m+\u001b[39;49m\u001b[43mamount\u001b[49m\u001b[43m,\u001b[49m\u001b[43m \u001b[49m\u001b[43moffset\u001b[49m\u001b[38;5;241;43m=\u001b[39;49m\u001b[38;5;241;43m-\u001b[39;49m\u001b[43mamount\u001b[49m\u001b[43m,\u001b[49m\u001b[43m \u001b[49m\u001b[43mrow_or_col\u001b[49m\u001b[38;5;241;43m=\u001b[39;49m\u001b[38;5;124;43m\"\u001b[39;49m\u001b[38;5;124;43mrow\u001b[39;49m\u001b[38;5;124;43m\"\u001b[39;49m\u001b[43m)\u001b[49m\n\u001b[0;32m    733\u001b[0m \u001b[38;5;66;03m# calculating min and max col is an expensive operation, do it only once\u001b[39;00m\n\u001b[0;32m    734\u001b[0m min_col \u001b[38;5;241m=\u001b[39m \u001b[38;5;28mself\u001b[39m\u001b[38;5;241m.\u001b[39mmin_column\n",
      "File \u001b[1;32mc:\\Users\\Zhu12\\anaconda3\\envs\\zjjtorch\\lib\\site-packages\\openpyxl\\worksheet\\worksheet.py:706\u001b[0m, in \u001b[0;36mWorksheet._move_cells\u001b[1;34m(self, min_row, min_col, offset, row_or_col)\u001b[0m\n\u001b[0;32m    703\u001b[0m \u001b[38;5;28;01melif\u001b[39;00m min_col \u001b[38;5;129;01mand\u001b[39;00m column \u001b[38;5;241m<\u001b[39m min_col:\n\u001b[0;32m    704\u001b[0m     \u001b[38;5;28;01mcontinue\u001b[39;00m\n\u001b[1;32m--> 706\u001b[0m \u001b[38;5;28;43mself\u001b[39;49m\u001b[38;5;241;43m.\u001b[39;49m\u001b[43m_move_cell\u001b[49m\u001b[43m(\u001b[49m\u001b[43mrow\u001b[49m\u001b[43m,\u001b[49m\u001b[43m \u001b[49m\u001b[43mcolumn\u001b[49m\u001b[43m,\u001b[49m\u001b[43m \u001b[49m\u001b[43mrow_offset\u001b[49m\u001b[43m,\u001b[49m\u001b[43m \u001b[49m\u001b[43mcol_offset\u001b[49m\u001b[43m)\u001b[49m\n",
      "File \u001b[1;32mc:\\Users\\Zhu12\\anaconda3\\envs\\zjjtorch\\lib\\site-packages\\openpyxl\\worksheet\\worksheet.py:799\u001b[0m, in \u001b[0;36mWorksheet._move_cell\u001b[1;34m(self, row, column, row_offset, col_offset, translate)\u001b[0m\n\u001b[0;32m    793\u001b[0m \u001b[38;5;28;01mdef\u001b[39;00m \u001b[38;5;21m_move_cell\u001b[39m(\u001b[38;5;28mself\u001b[39m, row, column, row_offset, col_offset, translate\u001b[38;5;241m=\u001b[39m\u001b[38;5;28;01mFalse\u001b[39;00m):\n\u001b[0;32m    794\u001b[0m \u001b[38;5;250m    \u001b[39m\u001b[38;5;124;03m\"\"\"\u001b[39;00m\n\u001b[0;32m    795\u001b[0m \u001b[38;5;124;03m    Move a cell from one place to another.\u001b[39;00m\n\u001b[0;32m    796\u001b[0m \u001b[38;5;124;03m    Delete at old index\u001b[39;00m\n\u001b[0;32m    797\u001b[0m \u001b[38;5;124;03m    Rebase coordinate\u001b[39;00m\n\u001b[0;32m    798\u001b[0m \u001b[38;5;124;03m    \"\"\"\u001b[39;00m\n\u001b[1;32m--> 799\u001b[0m     cell \u001b[38;5;241m=\u001b[39m \u001b[38;5;28;43mself\u001b[39;49m\u001b[38;5;241;43m.\u001b[39;49m\u001b[43m_get_cell\u001b[49m\u001b[43m(\u001b[49m\u001b[43mrow\u001b[49m\u001b[43m,\u001b[49m\u001b[43m \u001b[49m\u001b[43mcolumn\u001b[49m\u001b[43m)\u001b[49m\n\u001b[0;32m    800\u001b[0m     new_row \u001b[38;5;241m=\u001b[39m cell\u001b[38;5;241m.\u001b[39mrow \u001b[38;5;241m+\u001b[39m row_offset\n\u001b[0;32m    801\u001b[0m     new_col \u001b[38;5;241m=\u001b[39m cell\u001b[38;5;241m.\u001b[39mcolumn \u001b[38;5;241m+\u001b[39m col_offset\n",
      "File \u001b[1;32mc:\\Users\\Zhu12\\anaconda3\\envs\\zjjtorch\\lib\\site-packages\\openpyxl\\worksheet\\worksheet.py:255\u001b[0m, in \u001b[0;36mWorksheet._get_cell\u001b[1;34m(self, row, column)\u001b[0m\n\u001b[0;32m    253\u001b[0m     \u001b[38;5;28;01mraise\u001b[39;00m \u001b[38;5;167;01mValueError\u001b[39;00m(\u001b[38;5;124m\"\u001b[39m\u001b[38;5;124mRow numbers must be between 1 and 1048576\u001b[39m\u001b[38;5;124m\"\u001b[39m)\n\u001b[0;32m    254\u001b[0m coordinate \u001b[38;5;241m=\u001b[39m (row, column)\n\u001b[1;32m--> 255\u001b[0m \u001b[38;5;28;01mif\u001b[39;00m \u001b[38;5;129;01mnot\u001b[39;00m \u001b[43mcoordinate\u001b[49m\u001b[43m \u001b[49m\u001b[38;5;129;43;01min\u001b[39;49;00m\u001b[43m \u001b[49m\u001b[38;5;28;43mself\u001b[39;49m\u001b[38;5;241;43m.\u001b[39;49m\u001b[43m_cells\u001b[49m:\n\u001b[0;32m    256\u001b[0m     cell \u001b[38;5;241m=\u001b[39m Cell(\u001b[38;5;28mself\u001b[39m, row\u001b[38;5;241m=\u001b[39mrow, column\u001b[38;5;241m=\u001b[39mcolumn)\n\u001b[0;32m    257\u001b[0m     \u001b[38;5;28mself\u001b[39m\u001b[38;5;241m.\u001b[39m_add_cell(cell)\n",
      "\u001b[1;31mKeyboardInterrupt\u001b[0m: "
     ]
    }
   ],
   "source": [
    "from openpyxl import load_workbook\n",
    "\n",
    "for k in range(1,5):\n",
    "    excel_path = f\"data/test{k}.xlsx\"\n",
    "    wb = load_workbook(excel_path)\n",
    "    ws=wb.active\n",
    "    max_row_num = ws.max_row #最大行数\n",
    "    i = 0\n",
    "\n",
    "    row_n = 1 #起始行\n",
    "    col_n = 2 #目标列\n",
    "    while i < max_row_num:\n",
    "        if ws.cell(row=row_n,column=col_n).value >= 0:\n",
    "            ws.delete_rows(row_n)\n",
    "            # print(f\"删除第{row_n}行\")\n",
    "        else:\n",
    "            # print(ws.cell(row=row_n,column=5).value,row_n,sep='\\t')\n",
    "            row_n+=1\n",
    "        i+=1\n",
    "    wb.save(filename=f\"data/test_dc{k}.xlsx\")\n",
    "    wb.close\n",
    "    print(f\"文件 {k} 保存成功！\")"
   ]
  }
 ],
 "metadata": {
  "kernelspec": {
   "display_name": "zjjtorch",
   "language": "python",
   "name": "python3"
  },
  "language_info": {
   "codemirror_mode": {
    "name": "ipython",
    "version": 3
   },
   "file_extension": ".py",
   "mimetype": "text/x-python",
   "name": "python",
   "nbconvert_exporter": "python",
   "pygments_lexer": "ipython3",
   "version": "3.10.13"
  }
 },
 "nbformat": 4,
 "nbformat_minor": 2
}
