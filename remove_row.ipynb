{
 "cells": [
  {
   "cell_type": "code",
   "execution_count": 4,
   "metadata": {},
   "outputs": [
    {
     "name": "stdout",
     "output_type": "stream",
     "text": [
      "文件 5 保存成功！\n",
      "文件 6 保存成功！\n",
      "文件 7 保存成功！\n",
      "文件 8 保存成功！\n"
     ]
    }
   ],
   "source": [
    "from openpyxl import load_workbook\n",
    "\n",
    "for k in range(1,5):\n",
    "    excel_path = f\"data/test{k}.xlsx\"\n",
    "    wb = load_workbook(excel_path)\n",
    "    ws=wb.active\n",
    "    max_row_num = ws.max_row #最大行数\n",
    "    i = 0\n",
    "\n",
    "    row_n = 1 #起始行\n",
    "    col_n = 2 #目标列\n",
    "    while i < max_row_num:\n",
    "        if ws.cell(row=row_n,column=col_n).value >= 0:\n",
    "            ws.delete_rows(row_n)\n",
    "            # print(f\"删除第{row_n}行\")\n",
    "        else:\n",
    "            # print(ws.cell(row=row_n,column=5).value,row_n,sep='\\t')\n",
    "            row_n+=1\n",
    "        i+=1\n",
    "    wb.save(filename=f\"data/test{k}.xlsx\")\n",
    "    wb.close\n",
    "    print(f\"文件 {k} 保存成功！\")"
   ]
  }
 ],
 "metadata": {
  "kernelspec": {
   "display_name": "zjjtorch",
   "language": "python",
   "name": "python3"
  },
  "language_info": {
   "codemirror_mode": {
    "name": "ipython",
    "version": 3
   },
   "file_extension": ".py",
   "mimetype": "text/x-python",
   "name": "python",
   "nbconvert_exporter": "python",
   "pygments_lexer": "ipython3",
   "version": "3.10.13"
  }
 },
 "nbformat": 4,
 "nbformat_minor": 2
}
