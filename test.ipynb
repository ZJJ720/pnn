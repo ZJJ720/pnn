{
 "cells": [
  {
   "cell_type": "code",
   "execution_count": 1,
   "metadata": {},
   "outputs": [],
   "source": [
    "import pandas as pd\n",
    "import torch\n",
    "import numpy as np"
   ]
  },
  {
   "cell_type": "code",
   "execution_count": 2,
   "metadata": {},
   "outputs": [],
   "source": [
    "# 读取 excel 数据\n",
    "excel_index = 2\n",
    "df = pd.read_excel(f'data/test_dc{excel_index}.xlsx')\n",
    "# 前 5 列数据读取为 dataX\n",
    "dataX = df.iloc[:, [0,1,2,4,5]].values\n",
    "# 第 6 列数据读取为 dataY\n",
    "dataY = df.iloc[:, 6].values\n",
    "# 将 dataX, dataY 变量转变为 tensor 类型\n",
    "dataX = torch.from_numpy(dataX).float()\n",
    "dataY = torch.from_numpy(dataY).float().reshape(-1, 1)\n",
    "\n",
    "dataset = np.concatenate((dataX, dataY), axis=1)"
   ]
  }
 ],
 "metadata": {
  "kernelspec": {
   "display_name": "zjjtorch",
   "language": "python",
   "name": "python3"
  },
  "language_info": {
   "codemirror_mode": {
    "name": "ipython",
    "version": 3
   },
   "file_extension": ".py",
   "mimetype": "text/x-python",
   "name": "python",
   "nbconvert_exporter": "python",
   "pygments_lexer": "ipython3",
   "version": "3.9.18"
  }
 },
 "nbformat": 4,
 "nbformat_minor": 2
}
